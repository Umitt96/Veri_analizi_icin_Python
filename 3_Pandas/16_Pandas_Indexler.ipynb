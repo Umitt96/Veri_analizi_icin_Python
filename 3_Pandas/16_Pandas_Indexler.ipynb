{
 "cells": [
  {
   "cell_type": "code",
   "execution_count": 1,
   "id": "dd2979f7-3ae1-4b65-8ce6-99a8e776c3a9",
   "metadata": {},
   "outputs": [],
   "source": [
    "import pandas as pd"
   ]
  },
  {
   "cell_type": "code",
   "execution_count": 8,
   "id": "d62f6805-a347-45fb-bada-dbac38ced99d",
   "metadata": {},
   "outputs": [],
   "source": [
    "data = {\n",
    "    'isim': ['Ali', 'Veli', 'Ayşe', 'Fatma'],\n",
    "    'yaş': [24, 22, 28, 30],\n",
    "    'şehir': ['İstanbul', 'Ankara', 'İstanbul', 'Bursa'],\n",
    "    'maaş': [17000,9000,22000,25000]\n",
    "}"
   ]
  },
  {
   "cell_type": "code",
   "execution_count": 9,
   "id": "c35b1fcc-2a30-486d-b862-5cc285bd33d5",
   "metadata": {},
   "outputs": [],
   "source": [
    "df = pd.DataFrame(data)"
   ]
  },
  {
   "cell_type": "code",
   "execution_count": 10,
   "id": "ae3610e7-b905-4d0f-b3ab-5cfdd2d0ac5f",
   "metadata": {},
   "outputs": [
    {
     "data": {
      "text/html": [
       "<div>\n",
       "<style scoped>\n",
       "    .dataframe tbody tr th:only-of-type {\n",
       "        vertical-align: middle;\n",
       "    }\n",
       "\n",
       "    .dataframe tbody tr th {\n",
       "        vertical-align: top;\n",
       "    }\n",
       "\n",
       "    .dataframe thead th {\n",
       "        text-align: right;\n",
       "    }\n",
       "</style>\n",
       "<table border=\"1\" class=\"dataframe\">\n",
       "  <thead>\n",
       "    <tr style=\"text-align: right;\">\n",
       "      <th></th>\n",
       "      <th>isim</th>\n",
       "      <th>yaş</th>\n",
       "      <th>şehir</th>\n",
       "      <th>maaş</th>\n",
       "    </tr>\n",
       "  </thead>\n",
       "  <tbody>\n",
       "    <tr>\n",
       "      <th>0</th>\n",
       "      <td>Ali</td>\n",
       "      <td>24</td>\n",
       "      <td>İstanbul</td>\n",
       "      <td>17000</td>\n",
       "    </tr>\n",
       "    <tr>\n",
       "      <th>1</th>\n",
       "      <td>Veli</td>\n",
       "      <td>22</td>\n",
       "      <td>Ankara</td>\n",
       "      <td>9000</td>\n",
       "    </tr>\n",
       "    <tr>\n",
       "      <th>2</th>\n",
       "      <td>Ayşe</td>\n",
       "      <td>28</td>\n",
       "      <td>İstanbul</td>\n",
       "      <td>22000</td>\n",
       "    </tr>\n",
       "    <tr>\n",
       "      <th>3</th>\n",
       "      <td>Fatma</td>\n",
       "      <td>30</td>\n",
       "      <td>Bursa</td>\n",
       "      <td>25000</td>\n",
       "    </tr>\n",
       "  </tbody>\n",
       "</table>\n",
       "</div>"
      ],
      "text/plain": [
       "    isim  yaş     şehir   maaş\n",
       "0    Ali   24  İstanbul  17000\n",
       "1   Veli   22    Ankara   9000\n",
       "2   Ayşe   28  İstanbul  22000\n",
       "3  Fatma   30     Bursa  25000"
      ]
     },
     "execution_count": 10,
     "metadata": {},
     "output_type": "execute_result"
    }
   ],
   "source": [
    "df"
   ]
  },
  {
   "cell_type": "markdown",
   "id": "9cb9d30c-6d33-4c9d-89f3-22de6627ee35",
   "metadata": {
    "jp-MarkdownHeadingCollapsed": true
   },
   "source": [
    "## Sütun ekleme"
   ]
  },
  {
   "cell_type": "code",
   "execution_count": 28,
   "id": "54f8b91d-9020-4245-8249-b1d9b9e6f2e6",
   "metadata": {},
   "outputs": [],
   "source": [
    "df[\"eğlence\"] = (df[\"maaş\"] /4).round()\n",
    "df[\"faturalar\"] = (df[\"maaş\"] /2.5).round()"
   ]
  },
  {
   "cell_type": "code",
   "execution_count": 35,
   "id": "f933d117-f864-48b6-83c6-cfc6b76b74b8",
   "metadata": {},
   "outputs": [],
   "source": [
    "df[\"kalan para\"] = df[\"maaş\"] - (df[\"eğlence\"] + df[\"faturalar\"])"
   ]
  },
  {
   "cell_type": "code",
   "execution_count": 36,
   "id": "1d87048b-20ef-48e7-9863-6bcf3b7767ee",
   "metadata": {},
   "outputs": [
    {
     "data": {
      "text/html": [
       "<div>\n",
       "<style scoped>\n",
       "    .dataframe tbody tr th:only-of-type {\n",
       "        vertical-align: middle;\n",
       "    }\n",
       "\n",
       "    .dataframe tbody tr th {\n",
       "        vertical-align: top;\n",
       "    }\n",
       "\n",
       "    .dataframe thead th {\n",
       "        text-align: right;\n",
       "    }\n",
       "</style>\n",
       "<table border=\"1\" class=\"dataframe\">\n",
       "  <thead>\n",
       "    <tr style=\"text-align: right;\">\n",
       "      <th></th>\n",
       "      <th>isim</th>\n",
       "      <th>yaş</th>\n",
       "      <th>şehir</th>\n",
       "      <th>maaş</th>\n",
       "      <th>eğlence</th>\n",
       "      <th>faturalar</th>\n",
       "      <th>kalan para</th>\n",
       "    </tr>\n",
       "  </thead>\n",
       "  <tbody>\n",
       "    <tr>\n",
       "      <th>0</th>\n",
       "      <td>Ali</td>\n",
       "      <td>24</td>\n",
       "      <td>İstanbul</td>\n",
       "      <td>17000</td>\n",
       "      <td>4250.0</td>\n",
       "      <td>6800.0</td>\n",
       "      <td>5950.0</td>\n",
       "    </tr>\n",
       "    <tr>\n",
       "      <th>1</th>\n",
       "      <td>Veli</td>\n",
       "      <td>22</td>\n",
       "      <td>Ankara</td>\n",
       "      <td>9000</td>\n",
       "      <td>2250.0</td>\n",
       "      <td>3600.0</td>\n",
       "      <td>3150.0</td>\n",
       "    </tr>\n",
       "    <tr>\n",
       "      <th>2</th>\n",
       "      <td>Ayşe</td>\n",
       "      <td>28</td>\n",
       "      <td>İstanbul</td>\n",
       "      <td>22000</td>\n",
       "      <td>5500.0</td>\n",
       "      <td>8800.0</td>\n",
       "      <td>7700.0</td>\n",
       "    </tr>\n",
       "    <tr>\n",
       "      <th>3</th>\n",
       "      <td>Fatma</td>\n",
       "      <td>30</td>\n",
       "      <td>Bursa</td>\n",
       "      <td>25000</td>\n",
       "      <td>6250.0</td>\n",
       "      <td>10000.0</td>\n",
       "      <td>8750.0</td>\n",
       "    </tr>\n",
       "  </tbody>\n",
       "</table>\n",
       "</div>"
      ],
      "text/plain": [
       "    isim  yaş     şehir   maaş  eğlence  faturalar  kalan para\n",
       "0    Ali   24  İstanbul  17000   4250.0     6800.0      5950.0\n",
       "1   Veli   22    Ankara   9000   2250.0     3600.0      3150.0\n",
       "2   Ayşe   28  İstanbul  22000   5500.0     8800.0      7700.0\n",
       "3  Fatma   30     Bursa  25000   6250.0    10000.0      8750.0"
      ]
     },
     "execution_count": 36,
     "metadata": {},
     "output_type": "execute_result"
    }
   ],
   "source": [
    "df"
   ]
  },
  {
   "cell_type": "markdown",
   "id": "88179504-19ad-411b-b5de-26c00d2ec3d7",
   "metadata": {},
   "source": [
    "## Sütun silme"
   ]
  },
  {
   "cell_type": "code",
   "execution_count": 37,
   "id": "0c812bec-d0af-4dd7-be64-738c7420a3df",
   "metadata": {},
   "outputs": [],
   "source": [
    "#df.drop(\"eğlence masrafı\", axis = 1, inplace = True)"
   ]
  },
  {
   "cell_type": "code",
   "execution_count": 33,
   "id": "a4c7e032-e2c8-4c9e-a461-98ec2dd329db",
   "metadata": {},
   "outputs": [],
   "source": [
    "df.drop(\"kira masrafı\", axis = 1, inplace = True)"
   ]
  },
  {
   "cell_type": "code",
   "execution_count": 38,
   "id": "32677b3c-7c57-4af5-a990-09d727a1a49a",
   "metadata": {},
   "outputs": [
    {
     "data": {
      "text/html": [
       "<div>\n",
       "<style scoped>\n",
       "    .dataframe tbody tr th:only-of-type {\n",
       "        vertical-align: middle;\n",
       "    }\n",
       "\n",
       "    .dataframe tbody tr th {\n",
       "        vertical-align: top;\n",
       "    }\n",
       "\n",
       "    .dataframe thead th {\n",
       "        text-align: right;\n",
       "    }\n",
       "</style>\n",
       "<table border=\"1\" class=\"dataframe\">\n",
       "  <thead>\n",
       "    <tr style=\"text-align: right;\">\n",
       "      <th></th>\n",
       "      <th>isim</th>\n",
       "      <th>yaş</th>\n",
       "      <th>şehir</th>\n",
       "      <th>maaş</th>\n",
       "      <th>eğlence</th>\n",
       "      <th>faturalar</th>\n",
       "      <th>kalan para</th>\n",
       "    </tr>\n",
       "  </thead>\n",
       "  <tbody>\n",
       "    <tr>\n",
       "      <th>0</th>\n",
       "      <td>Ali</td>\n",
       "      <td>24</td>\n",
       "      <td>İstanbul</td>\n",
       "      <td>17000</td>\n",
       "      <td>4250.0</td>\n",
       "      <td>6800.0</td>\n",
       "      <td>5950.0</td>\n",
       "    </tr>\n",
       "    <tr>\n",
       "      <th>1</th>\n",
       "      <td>Veli</td>\n",
       "      <td>22</td>\n",
       "      <td>Ankara</td>\n",
       "      <td>9000</td>\n",
       "      <td>2250.0</td>\n",
       "      <td>3600.0</td>\n",
       "      <td>3150.0</td>\n",
       "    </tr>\n",
       "    <tr>\n",
       "      <th>2</th>\n",
       "      <td>Ayşe</td>\n",
       "      <td>28</td>\n",
       "      <td>İstanbul</td>\n",
       "      <td>22000</td>\n",
       "      <td>5500.0</td>\n",
       "      <td>8800.0</td>\n",
       "      <td>7700.0</td>\n",
       "    </tr>\n",
       "    <tr>\n",
       "      <th>3</th>\n",
       "      <td>Fatma</td>\n",
       "      <td>30</td>\n",
       "      <td>Bursa</td>\n",
       "      <td>25000</td>\n",
       "      <td>6250.0</td>\n",
       "      <td>10000.0</td>\n",
       "      <td>8750.0</td>\n",
       "    </tr>\n",
       "  </tbody>\n",
       "</table>\n",
       "</div>"
      ],
      "text/plain": [
       "    isim  yaş     şehir   maaş  eğlence  faturalar  kalan para\n",
       "0    Ali   24  İstanbul  17000   4250.0     6800.0      5950.0\n",
       "1   Veli   22    Ankara   9000   2250.0     3600.0      3150.0\n",
       "2   Ayşe   28  İstanbul  22000   5500.0     8800.0      7700.0\n",
       "3  Fatma   30     Bursa  25000   6250.0    10000.0      8750.0"
      ]
     },
     "execution_count": 38,
     "metadata": {},
     "output_type": "execute_result"
    }
   ],
   "source": [
    "df"
   ]
  },
  {
   "cell_type": "code",
   "execution_count": 39,
   "id": "4f27d781-28e9-4870-980f-40bf8808d0b4",
   "metadata": {},
   "outputs": [
    {
     "data": {
      "text/html": [
       "<div>\n",
       "<style scoped>\n",
       "    .dataframe tbody tr th:only-of-type {\n",
       "        vertical-align: middle;\n",
       "    }\n",
       "\n",
       "    .dataframe tbody tr th {\n",
       "        vertical-align: top;\n",
       "    }\n",
       "\n",
       "    .dataframe thead th {\n",
       "        text-align: right;\n",
       "    }\n",
       "</style>\n",
       "<table border=\"1\" class=\"dataframe\">\n",
       "  <thead>\n",
       "    <tr style=\"text-align: right;\">\n",
       "      <th></th>\n",
       "      <th>isim</th>\n",
       "      <th>yaş</th>\n",
       "      <th>şehir</th>\n",
       "      <th>maaş</th>\n",
       "      <th>eğlence</th>\n",
       "      <th>faturalar</th>\n",
       "      <th>kalan para</th>\n",
       "    </tr>\n",
       "  </thead>\n",
       "  <tbody>\n",
       "    <tr>\n",
       "      <th>2</th>\n",
       "      <td>Ayşe</td>\n",
       "      <td>28</td>\n",
       "      <td>İstanbul</td>\n",
       "      <td>22000</td>\n",
       "      <td>5500.0</td>\n",
       "      <td>8800.0</td>\n",
       "      <td>7700.0</td>\n",
       "    </tr>\n",
       "    <tr>\n",
       "      <th>3</th>\n",
       "      <td>Fatma</td>\n",
       "      <td>30</td>\n",
       "      <td>Bursa</td>\n",
       "      <td>25000</td>\n",
       "      <td>6250.0</td>\n",
       "      <td>10000.0</td>\n",
       "      <td>8750.0</td>\n",
       "    </tr>\n",
       "  </tbody>\n",
       "</table>\n",
       "</div>"
      ],
      "text/plain": [
       "    isim  yaş     şehir   maaş  eğlence  faturalar  kalan para\n",
       "2   Ayşe   28  İstanbul  22000   5500.0     8800.0      7700.0\n",
       "3  Fatma   30     Bursa  25000   6250.0    10000.0      8750.0"
      ]
     },
     "execution_count": 39,
     "metadata": {},
     "output_type": "execute_result"
    }
   ],
   "source": [
    "df[df[\"kalan para\"] > 6000]"
   ]
  },
  {
   "cell_type": "code",
   "execution_count": null,
   "id": "163bd651-ac71-476a-bad2-9c314e8c3ed3",
   "metadata": {},
   "outputs": [],
   "source": []
  }
 ],
 "metadata": {
  "kernelspec": {
   "display_name": "Python 3 (ipykernel)",
   "language": "python",
   "name": "python3"
  },
  "language_info": {
   "codemirror_mode": {
    "name": "ipython",
    "version": 3
   },
   "file_extension": ".py",
   "mimetype": "text/x-python",
   "name": "python",
   "nbconvert_exporter": "python",
   "pygments_lexer": "ipython3",
   "version": "3.11.7"
  }
 },
 "nbformat": 4,
 "nbformat_minor": 5
}
