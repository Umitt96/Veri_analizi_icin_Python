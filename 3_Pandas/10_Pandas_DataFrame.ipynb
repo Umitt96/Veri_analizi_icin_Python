{
 "cells": [
  {
   "cell_type": "code",
   "execution_count": 24,
   "id": "b3abdd64-147e-4318-a3f5-e1fd37abcbf4",
   "metadata": {},
   "outputs": [],
   "source": [
    "import pandas as pd\n",
    "import numpy as np"
   ]
  },
  {
   "cell_type": "code",
   "execution_count": 25,
   "id": "fe8a8e5a-24e8-4864-bfcc-e2157b67ac23",
   "metadata": {},
   "outputs": [
    {
     "data": {
      "text/html": [
       "<div>\n",
       "<style scoped>\n",
       "    .dataframe tbody tr th:only-of-type {\n",
       "        vertical-align: middle;\n",
       "    }\n",
       "\n",
       "    .dataframe tbody tr th {\n",
       "        vertical-align: top;\n",
       "    }\n",
       "\n",
       "    .dataframe thead th {\n",
       "        text-align: right;\n",
       "    }\n",
       "</style>\n",
       "<table border=\"1\" class=\"dataframe\">\n",
       "  <thead>\n",
       "    <tr style=\"text-align: right;\">\n",
       "      <th></th>\n",
       "      <th>0</th>\n",
       "      <th>1</th>\n",
       "      <th>2</th>\n",
       "      <th>3</th>\n",
       "    </tr>\n",
       "  </thead>\n",
       "  <tbody>\n",
       "    <tr>\n",
       "      <th>0</th>\n",
       "      <td>-124.814038</td>\n",
       "      <td>55.812880</td>\n",
       "      <td>-155.278371</td>\n",
       "      <td>-77.277131</td>\n",
       "    </tr>\n",
       "    <tr>\n",
       "      <th>1</th>\n",
       "      <td>10.248315</td>\n",
       "      <td>-113.490640</td>\n",
       "      <td>-32.010682</td>\n",
       "      <td>-72.429377</td>\n",
       "    </tr>\n",
       "    <tr>\n",
       "      <th>2</th>\n",
       "      <td>-106.649780</td>\n",
       "      <td>-27.783752</td>\n",
       "      <td>19.301968</td>\n",
       "      <td>-117.521293</td>\n",
       "    </tr>\n",
       "  </tbody>\n",
       "</table>\n",
       "</div>"
      ],
      "text/plain": [
       "            0           1           2           3\n",
       "0 -124.814038   55.812880 -155.278371  -77.277131\n",
       "1   10.248315 -113.490640  -32.010682  -72.429377\n",
       "2 -106.649780  -27.783752   19.301968 -117.521293"
      ]
     },
     "execution_count": 25,
     "metadata": {},
     "output_type": "execute_result"
    }
   ],
   "source": [
    "data = np.random.randn(3,4)*100\n",
    "dataFrame = pd.DataFrame(data)\n",
    "dataFrame "
   ]
  },
  {
   "cell_type": "code",
   "execution_count": 26,
   "id": "0c591c24-826d-4519-9ec5-9cf45a5c59e9",
   "metadata": {},
   "outputs": [],
   "source": [
    "#aşağıdaki gibi index ve columns vererek başlık ekleyebiliriz\n",
    "newDataFrame  = pd.DataFrame(data,index=[\"satır_1\",\"satır_2\",\"satır_3\"], columns=[\"sütun_1\",\"sütun_2\",\"sütun_3\",\"sütun_4\"])"
   ]
  },
  {
   "cell_type": "code",
   "execution_count": 27,
   "id": "68e459d3-275e-4ff8-9038-417b20462e3d",
   "metadata": {},
   "outputs": [
    {
     "data": {
      "text/html": [
       "<div>\n",
       "<style scoped>\n",
       "    .dataframe tbody tr th:only-of-type {\n",
       "        vertical-align: middle;\n",
       "    }\n",
       "\n",
       "    .dataframe tbody tr th {\n",
       "        vertical-align: top;\n",
       "    }\n",
       "\n",
       "    .dataframe thead th {\n",
       "        text-align: right;\n",
       "    }\n",
       "</style>\n",
       "<table border=\"1\" class=\"dataframe\">\n",
       "  <thead>\n",
       "    <tr style=\"text-align: right;\">\n",
       "      <th></th>\n",
       "      <th>sütun_1</th>\n",
       "      <th>sütun_2</th>\n",
       "      <th>sütun_3</th>\n",
       "      <th>sütun_4</th>\n",
       "    </tr>\n",
       "  </thead>\n",
       "  <tbody>\n",
       "    <tr>\n",
       "      <th>satır_1</th>\n",
       "      <td>-124.814038</td>\n",
       "      <td>55.812880</td>\n",
       "      <td>-155.278371</td>\n",
       "      <td>-77.277131</td>\n",
       "    </tr>\n",
       "    <tr>\n",
       "      <th>satır_2</th>\n",
       "      <td>10.248315</td>\n",
       "      <td>-113.490640</td>\n",
       "      <td>-32.010682</td>\n",
       "      <td>-72.429377</td>\n",
       "    </tr>\n",
       "    <tr>\n",
       "      <th>satır_3</th>\n",
       "      <td>-106.649780</td>\n",
       "      <td>-27.783752</td>\n",
       "      <td>19.301968</td>\n",
       "      <td>-117.521293</td>\n",
       "    </tr>\n",
       "  </tbody>\n",
       "</table>\n",
       "</div>"
      ],
      "text/plain": [
       "            sütun_1     sütun_2     sütun_3     sütun_4\n",
       "satır_1 -124.814038   55.812880 -155.278371  -77.277131\n",
       "satır_2   10.248315 -113.490640  -32.010682  -72.429377\n",
       "satır_3 -106.649780  -27.783752   19.301968 -117.521293"
      ]
     },
     "execution_count": 27,
     "metadata": {},
     "output_type": "execute_result"
    }
   ],
   "source": [
    "newDataFrame"
   ]
  },
  {
   "cell_type": "code",
   "execution_count": 28,
   "id": "e195207a-67af-403d-8b0b-58c836b04d83",
   "metadata": {},
   "outputs": [
    {
     "data": {
      "text/html": [
       "<div>\n",
       "<style scoped>\n",
       "    .dataframe tbody tr th:only-of-type {\n",
       "        vertical-align: middle;\n",
       "    }\n",
       "\n",
       "    .dataframe tbody tr th {\n",
       "        vertical-align: top;\n",
       "    }\n",
       "\n",
       "    .dataframe thead th {\n",
       "        text-align: right;\n",
       "    }\n",
       "</style>\n",
       "<table border=\"1\" class=\"dataframe\">\n",
       "  <thead>\n",
       "    <tr style=\"text-align: right;\">\n",
       "      <th></th>\n",
       "      <th>sütun_1</th>\n",
       "    </tr>\n",
       "  </thead>\n",
       "  <tbody>\n",
       "    <tr>\n",
       "      <th>satır_1</th>\n",
       "      <td>-124.814038</td>\n",
       "    </tr>\n",
       "    <tr>\n",
       "      <th>satır_2</th>\n",
       "      <td>10.248315</td>\n",
       "    </tr>\n",
       "    <tr>\n",
       "      <th>satır_3</th>\n",
       "      <td>-106.649780</td>\n",
       "    </tr>\n",
       "  </tbody>\n",
       "</table>\n",
       "</div>"
      ],
      "text/plain": [
       "            sütun_1\n",
       "satır_1 -124.814038\n",
       "satır_2   10.248315\n",
       "satır_3 -106.649780"
      ]
     },
     "execution_count": 28,
     "metadata": {},
     "output_type": "execute_result"
    }
   ],
   "source": [
    "#birden fazla verileri çekme imkanı var; \n",
    "newDataFrame[[\"sütun_1\"]]"
   ]
  },
  {
   "cell_type": "code",
   "execution_count": 29,
   "id": "18474263-a9bd-4066-a6bd-c3bf7d811506",
   "metadata": {},
   "outputs": [
    {
     "data": {
      "text/plain": [
       "sütun_1   -124.814038\n",
       "sütun_2     55.812880\n",
       "sütun_3   -155.278371\n",
       "sütun_4    -77.277131\n",
       "Name: satır_1, dtype: float64"
      ]
     },
     "execution_count": 29,
     "metadata": {},
     "output_type": "execute_result"
    }
   ],
   "source": [
    "newDataFrame.loc[\"satır_1\"]"
   ]
  },
  {
   "cell_type": "code",
   "execution_count": 30,
   "id": "f6975e19-3d6f-42cc-8260-8aa2a9c205cb",
   "metadata": {},
   "outputs": [
    {
     "data": {
      "text/plain": [
       "sütun_1   -124.814038\n",
       "sütun_2     55.812880\n",
       "sütun_3   -155.278371\n",
       "sütun_4    -77.277131\n",
       "Name: satır_1, dtype: float64"
      ]
     },
     "execution_count": 30,
     "metadata": {},
     "output_type": "execute_result"
    }
   ],
   "source": [
    "newDataFrame.iloc[0]"
   ]
  },
  {
   "cell_type": "code",
   "execution_count": 35,
   "id": "17dd4f81-8a3e-4448-9ec3-eec9a728c5c4",
   "metadata": {},
   "outputs": [
    {
     "data": {
      "text/plain": [
       "55.81288012471697"
      ]
     },
     "execution_count": 35,
     "metadata": {},
     "output_type": "execute_result"
    }
   ],
   "source": [
    "newDataFrame.loc[\"satır_1\",\"sütun_2\"]"
   ]
  }
 ],
 "metadata": {
  "kernelspec": {
   "display_name": "Python 3 (ipykernel)",
   "language": "python",
   "name": "python3"
  },
  "language_info": {
   "codemirror_mode": {
    "name": "ipython",
    "version": 3
   },
   "file_extension": ".py",
   "mimetype": "text/x-python",
   "name": "python",
   "nbconvert_exporter": "python",
   "pygments_lexer": "ipython3",
   "version": "3.11.7"
  }
 },
 "nbformat": 4,
 "nbformat_minor": 5
}
