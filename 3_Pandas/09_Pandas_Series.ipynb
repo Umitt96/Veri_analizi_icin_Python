{
 "cells": [
  {
   "cell_type": "code",
   "execution_count": 1,
   "id": "a92a4bf3-0e88-4ea3-8085-444ccdbe5ded",
   "metadata": {},
   "outputs": [],
   "source": [
    "import pandas as pd"
   ]
  },
  {
   "cell_type": "markdown",
   "id": "aa93f7ef-6585-4bd4-b116-50744a987d10",
   "metadata": {},
   "source": [
    "## Pandas Series'a Giriş"
   ]
  },
  {
   "cell_type": "code",
   "execution_count": 2,
   "id": "ab06b91f-6de1-44c2-8757-554669cec65c",
   "metadata": {},
   "outputs": [],
   "source": [
    "data = [10, 20, 30, 40]"
   ]
  },
  {
   "cell_type": "code",
   "execution_count": 3,
   "id": "519cda3d-c523-4a4e-8e70-13e3a23cb0a5",
   "metadata": {},
   "outputs": [],
   "source": [
    "series_data = pd.Series(data)"
   ]
  },
  {
   "cell_type": "code",
   "execution_count": 4,
   "id": "81323f63-944c-4d9e-9a5c-9a7f7d25566b",
   "metadata": {},
   "outputs": [
    {
     "data": {
      "text/plain": [
       "list"
      ]
     },
     "execution_count": 4,
     "metadata": {},
     "output_type": "execute_result"
    }
   ],
   "source": [
    "type(data)"
   ]
  },
  {
   "cell_type": "code",
   "execution_count": 5,
   "id": "23f400b4-bfd3-43fb-bf37-f3465b27d773",
   "metadata": {},
   "outputs": [
    {
     "data": {
      "text/plain": [
       "pandas.core.series.Series"
      ]
     },
     "execution_count": 5,
     "metadata": {},
     "output_type": "execute_result"
    }
   ],
   "source": [
    "type(series_data)"
   ]
  },
  {
   "cell_type": "markdown",
   "id": "d2832988-3112-4bd3-b1e8-345d153fa5f4",
   "metadata": {},
   "source": [
    "### 2. Örnek"
   ]
  },
  {
   "cell_type": "code",
   "execution_count": 6,
   "id": "905ce27f-7bef-41d9-8e14-c6e93cbe97da",
   "metadata": {},
   "outputs": [],
   "source": [
    "my_Names = [\"Rita\",\"Senem\",\"Ali Rıza\", \"Ethem\"]\n",
    "my_Ages = [24,56,60,5]"
   ]
  },
  {
   "cell_type": "code",
   "execution_count": 8,
   "id": "c13c3ef0-a003-460d-be4a-6375a0ca86f3",
   "metadata": {},
   "outputs": [],
   "source": [
    "my_Series = pd.Series(index = my_Names, data = my_Ages)"
   ]
  },
  {
   "cell_type": "code",
   "execution_count": 9,
   "id": "e56689fb-22f8-42c8-8923-fa2b3112596e",
   "metadata": {},
   "outputs": [
    {
     "data": {
      "text/plain": [
       "Rita        24\n",
       "Senem       56\n",
       "Ali Rıza    60\n",
       "Ethem        5\n",
       "dtype: int64"
      ]
     },
     "execution_count": 9,
     "metadata": {},
     "output_type": "execute_result"
    }
   ],
   "source": [
    "my_Series"
   ]
  },
  {
   "cell_type": "code",
   "execution_count": null,
   "id": "0e4984f8-a9f8-4899-b25b-56911f6430fe",
   "metadata": {},
   "outputs": [],
   "source": []
  }
 ],
 "metadata": {
  "kernelspec": {
   "display_name": "Python 3 (ipykernel)",
   "language": "python",
   "name": "python3"
  },
  "language_info": {
   "codemirror_mode": {
    "name": "ipython",
    "version": 3
   },
   "file_extension": ".py",
   "mimetype": "text/x-python",
   "name": "python",
   "nbconvert_exporter": "python",
   "pygments_lexer": "ipython3",
   "version": "3.11.7"
  }
 },
 "nbformat": 4,
 "nbformat_minor": 5
}
