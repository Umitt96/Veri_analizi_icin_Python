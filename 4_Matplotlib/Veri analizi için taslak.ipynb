{
 "cells": [
  {
   "cell_type": "markdown",
   "id": "0dc60657-fd7e-4d24-9b58-a98498b4936b",
   "metadata": {
    "jp-MarkdownHeadingCollapsed": true
   },
   "source": [
    "# 1. Gerekli kütüphaneler"
   ]
  },
  {
   "cell_type": "code",
   "execution_count": null,
   "id": "88e95226-a52a-4e60-a1db-208c877ff743",
   "metadata": {},
   "outputs": [],
   "source": []
  },
  {
   "cell_type": "markdown",
   "id": "93774861-7e99-4b94-821e-4c7aa1d4dc87",
   "metadata": {
    "jp-MarkdownHeadingCollapsed": true
   },
   "source": [
    "# 2. Veriyi dahil etme\n",
    "\n",
    "Bir kütüphaneden veya dosyadan faydalanabiliriz"
   ]
  },
  {
   "cell_type": "code",
   "execution_count": null,
   "id": "3a6f707c-1fd8-41b1-b922-a078d6349f86",
   "metadata": {},
   "outputs": [],
   "source": []
  },
  {
   "cell_type": "markdown",
   "id": "6efe40da-0cff-4c15-b0ee-ea0a8567d0dd",
   "metadata": {
    "jp-MarkdownHeadingCollapsed": true
   },
   "source": [
    "# 3. Veri temizleme\n",
    "\n",
    "Aykırı değer tespiti, \n",
    "Veri setindeki boş değerler "
   ]
  },
  {
   "cell_type": "markdown",
   "id": "860448c4-0548-4dea-93a2-ecbe0d4496ac",
   "metadata": {},
   "source": [
    "## Aykırı Değerler"
   ]
  },
  {
   "cell_type": "code",
   "execution_count": null,
   "id": "72520a41-d0c1-4b11-b104-29d3dd6274cd",
   "metadata": {},
   "outputs": [],
   "source": []
  },
  {
   "cell_type": "markdown",
   "id": "233b0be0-14d1-4741-b31a-ad51a5373b05",
   "metadata": {},
   "source": [
    "##  Null değerler"
   ]
  },
  {
   "cell_type": "code",
   "execution_count": null,
   "id": "f3491505-ea64-4f68-b9ce-143bb55b4e52",
   "metadata": {},
   "outputs": [],
   "source": []
  },
  {
   "cell_type": "markdown",
   "id": "f98333e8-2208-434b-a081-42da474c050d",
   "metadata": {
    "jp-MarkdownHeadingCollapsed": true
   },
   "source": [
    "# 4. Keşifsel veri analizi\n",
    "\n",
    "İstatistiksel ve görsel açıdan veriyi analiz ederek, \n",
    "elimizdeki değerleri daha net anlamaya çalışırız"
   ]
  },
  {
   "cell_type": "markdown",
   "id": "5eca2074-ff40-486f-be80-2c48f428b362",
   "metadata": {
    "jp-MarkdownHeadingCollapsed": true
   },
   "source": [
    "## Temel istatiktiksel özet"
   ]
  },
  {
   "cell_type": "code",
   "execution_count": null,
   "id": "885d0d4e-c391-4796-aae5-ae686c9412d3",
   "metadata": {},
   "outputs": [],
   "source": []
  },
  {
   "cell_type": "markdown",
   "id": "7b617a48-7534-4d9e-8220-ec10538e083d",
   "metadata": {
    "jp-MarkdownHeadingCollapsed": true
   },
   "source": [
    "## Ortalama, medyan"
   ]
  },
  {
   "cell_type": "code",
   "execution_count": null,
   "id": "d6a3a661-5a26-41e2-93fe-4de6f97eb2ee",
   "metadata": {},
   "outputs": [],
   "source": []
  },
  {
   "cell_type": "markdown",
   "id": "0664e7dd-81b3-4226-81d0-4c075f952443",
   "metadata": {
    "jp-MarkdownHeadingCollapsed": true
   },
   "source": [
    "## Korelasyon"
   ]
  },
  {
   "cell_type": "code",
   "execution_count": null,
   "id": "2e0a4fec-b853-4508-98b4-cb2130c1fea9",
   "metadata": {},
   "outputs": [],
   "source": []
  },
  {
   "cell_type": "markdown",
   "id": "223c02e6-932d-4743-8961-10ba2d2cc5d5",
   "metadata": {
    "jp-MarkdownHeadingCollapsed": true
   },
   "source": [
    "# 5. Standartlaştırma ve boyut indirgeme\n",
    "\n",
    "Makine öğrenmesi algoritmalarının daha rahat tahmin yapabilmesi için gereklidir"
   ]
  },
  {
   "cell_type": "markdown",
   "id": "2657a03d-4822-4beb-94b7-a25bdb3dd47b",
   "metadata": {},
   "source": [
    "## Standartization"
   ]
  },
  {
   "cell_type": "code",
   "execution_count": null,
   "id": "dc7ee917-cd1a-449a-bd2e-7ba8e00a3cf7",
   "metadata": {},
   "outputs": [],
   "source": []
  },
  {
   "cell_type": "markdown",
   "id": "21b24774-6912-4e47-9b23-8b888541c152",
   "metadata": {},
   "source": [
    "## Normalization"
   ]
  },
  {
   "cell_type": "code",
   "execution_count": null,
   "id": "3a978715-3a55-42b7-9590-c621d808ba7c",
   "metadata": {},
   "outputs": [],
   "source": []
  },
  {
   "cell_type": "markdown",
   "id": "ee1871b7-d09a-4508-aef5-8411792141c8",
   "metadata": {},
   "source": [
    "# 6. Veri görselleştirme\n",
    "\n",
    "Matplotlib ve sbn kullanılarak verinin daha net bir şekilde görebiliriz"
   ]
  },
  {
   "cell_type": "code",
   "execution_count": null,
   "id": "6b6e2ce6-84c1-478d-ab30-c78a1fdce17b",
   "metadata": {},
   "outputs": [],
   "source": []
  }
 ],
 "metadata": {
  "kernelspec": {
   "display_name": "Python 3 (ipykernel)",
   "language": "python",
   "name": "python3"
  },
  "language_info": {
   "codemirror_mode": {
    "name": "ipython",
    "version": 3
   },
   "file_extension": ".py",
   "mimetype": "text/x-python",
   "name": "python",
   "nbconvert_exporter": "python",
   "pygments_lexer": "ipython3",
   "version": "3.11.7"
  }
 },
 "nbformat": 4,
 "nbformat_minor": 5
}
