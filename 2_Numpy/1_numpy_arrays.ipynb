{
 "cells": [
  {
   "cell_type": "code",
   "execution_count": 5,
   "id": "12fb0746-28d2-47f6-9beb-7f1d851f5bda",
   "metadata": {},
   "outputs": [],
   "source": [
    "import numpy as np"
   ]
  },
  {
   "cell_type": "code",
   "execution_count": 6,
   "id": "07a8ea2b-f5f7-4f90-a930-390e5b716293",
   "metadata": {},
   "outputs": [
    {
     "data": {
      "text/plain": [
       "'1.26.4'"
      ]
     },
     "execution_count": 6,
     "metadata": {},
     "output_type": "execute_result"
    }
   ],
   "source": [
    "np.__version__"
   ]
  },
  {
   "cell_type": "markdown",
   "id": "543323a0-4121-43f2-9b92-bf597022a399",
   "metadata": {},
   "source": [
    "## Normal dizi oluşturma"
   ]
  },
  {
   "cell_type": "code",
   "execution_count": 7,
   "id": "07eb623f-827b-412e-a7f9-70fff91607b1",
   "metadata": {},
   "outputs": [
    {
     "data": {
      "text/plain": [
       "list"
      ]
     },
     "execution_count": 7,
     "metadata": {},
     "output_type": "execute_result"
    }
   ],
   "source": [
    "dizi_1 = [1,2,3,4,5]\n",
    "type(dizi_1)"
   ]
  },
  {
   "cell_type": "markdown",
   "id": "c55b1862-a5bc-4fef-9fff-37145ed90ac1",
   "metadata": {},
   "source": [
    "## Numpy dizisi oluşturma"
   ]
  },
  {
   "cell_type": "code",
   "execution_count": 24,
   "id": "809c0176-eb35-4911-a01b-70caec907c3e",
   "metadata": {},
   "outputs": [
    {
     "data": {
      "text/plain": [
       "numpy.ndarray"
      ]
     },
     "execution_count": 24,
     "metadata": {},
     "output_type": "execute_result"
    }
   ],
   "source": [
    "np_dizi = np.array([0,1,2,3,4,5])\n",
    "type(np_dizi)"
   ]
  },
  {
   "cell_type": "code",
   "execution_count": 25,
   "id": "f31ce0d0-270b-4a7e-be15-9011f7f9baed",
   "metadata": {},
   "outputs": [
    {
     "data": {
      "text/plain": [
       "3"
      ]
     },
     "execution_count": 25,
     "metadata": {},
     "output_type": "execute_result"
    }
   ],
   "source": [
    "np_dizi[3]"
   ]
  },
  {
   "cell_type": "code",
   "execution_count": 26,
   "id": "ca5d5ee7-3084-44de-a45a-4ed4979372c1",
   "metadata": {},
   "outputs": [],
   "source": [
    "np_dizi[:3] = 10 "
   ]
  },
  {
   "cell_type": "code",
   "execution_count": 27,
   "id": "a0fff4a9-8fa3-40a7-a038-651d54b9b8a5",
   "metadata": {},
   "outputs": [
    {
     "name": "stdout",
     "output_type": "stream",
     "text": [
      "[10 10 10  3  4  5]\n"
     ]
    }
   ],
   "source": [
    "print(np_dizi)"
   ]
  },
  {
   "cell_type": "code",
   "execution_count": 28,
   "id": "4960e77d-6277-4bb4-8177-f6cce4f8942a",
   "metadata": {},
   "outputs": [],
   "source": [
    "np_dizi_2 = np_dizi *10"
   ]
  },
  {
   "cell_type": "code",
   "execution_count": 29,
   "id": "9156475e-8588-431a-a9a6-f9042ba9bd0c",
   "metadata": {},
   "outputs": [
    {
     "data": {
      "text/plain": [
       "array([100, 100, 100,  30,  40,  50])"
      ]
     },
     "execution_count": 29,
     "metadata": {},
     "output_type": "execute_result"
    }
   ],
   "source": [
    "np_dizi_2"
   ]
  },
  {
   "cell_type": "code",
   "execution_count": null,
   "id": "88aa0e7a-db82-4f53-a607-cfa617505371",
   "metadata": {},
   "outputs": [],
   "source": []
  }
 ],
 "metadata": {
  "kernelspec": {
   "display_name": "Python 3 (ipykernel)",
   "language": "python",
   "name": "python3"
  },
  "language_info": {
   "codemirror_mode": {
    "name": "ipython",
    "version": 3
   },
   "file_extension": ".py",
   "mimetype": "text/x-python",
   "name": "python",
   "nbconvert_exporter": "python",
   "pygments_lexer": "ipython3",
   "version": "3.11.7"
  }
 },
 "nbformat": 4,
 "nbformat_minor": 5
}
