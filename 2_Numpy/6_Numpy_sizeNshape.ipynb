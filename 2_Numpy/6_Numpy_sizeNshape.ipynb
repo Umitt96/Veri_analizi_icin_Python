{
 "cells": [
  {
   "cell_type": "code",
   "execution_count": 1,
   "id": "ad7cf308-41fa-4b13-9649-49d0a8023e6b",
   "metadata": {},
   "outputs": [],
   "source": [
    "import numpy as np"
   ]
  },
  {
   "cell_type": "code",
   "execution_count": 39,
   "id": "d245706f-c202-4ad8-af9e-02585a1920cb",
   "metadata": {},
   "outputs": [
    {
     "data": {
      "text/plain": [
       "array([ 1,  2,  3,  4,  5,  6,  7,  8,  9, 10, 11, 12, 13, 14, 15, 16, 17,\n",
       "       18, 19, 20, 21, 22, 23, 24])"
      ]
     },
     "execution_count": 39,
     "metadata": {},
     "output_type": "execute_result"
    }
   ],
   "source": [
    "dizi = np.arange(1,25)\n",
    "dizi"
   ]
  },
  {
   "cell_type": "markdown",
   "id": "50033902-9fc8-4ad6-a621-d5418c9d91bf",
   "metadata": {
    "jp-MarkdownHeadingCollapsed": true
   },
   "source": [
    "## np.size"
   ]
  },
  {
   "cell_type": "code",
   "execution_count": 11,
   "id": "9b832cd5-6e7f-42c0-b7b2-4ce739a6d816",
   "metadata": {},
   "outputs": [
    {
     "data": {
      "text/plain": [
       "24"
      ]
     },
     "execution_count": 11,
     "metadata": {},
     "output_type": "execute_result"
    }
   ],
   "source": [
    "dizi.size"
   ]
  },
  {
   "cell_type": "code",
   "execution_count": 12,
   "id": "0aa46808-33f5-4108-a404-9ed78dda5047",
   "metadata": {},
   "outputs": [
    {
     "data": {
      "text/plain": [
       "(24,)"
      ]
     },
     "execution_count": 12,
     "metadata": {},
     "output_type": "execute_result"
    }
   ],
   "source": [
    "dizi.shape"
   ]
  },
  {
   "cell_type": "markdown",
   "id": "d8d9cc1c-6e9c-439e-962d-d96b7dddeb33",
   "metadata": {
    "jp-MarkdownHeadingCollapsed": true
   },
   "source": [
    "## np.shape örnekleri"
   ]
  },
  {
   "cell_type": "code",
   "execution_count": 36,
   "id": "397915e6-d4ab-417f-93a5-20aec01f5a21",
   "metadata": {},
   "outputs": [
    {
     "data": {
      "text/plain": [
       "(6, 4)"
      ]
     },
     "execution_count": 36,
     "metadata": {},
     "output_type": "execute_result"
    }
   ],
   "source": [
    "dizi_2 = dizi.reshape(6,4) #24? 6x4, 8x3, 12x2\n",
    "dizi_2.shape"
   ]
  },
  {
   "cell_type": "code",
   "execution_count": 37,
   "id": "f3175bfb-86a9-4ff3-a371-060cbd99e73f",
   "metadata": {},
   "outputs": [],
   "source": [
    "dizi_2_rs = dizi_2.reshape(12,2)"
   ]
  },
  {
   "cell_type": "code",
   "execution_count": 40,
   "id": "3362ef33-84b6-4b73-a29f-2b53ee7b649d",
   "metadata": {},
   "outputs": [
    {
     "data": {
      "text/plain": [
       "array([[ 1,  2],\n",
       "       [ 3,  4],\n",
       "       [ 5,  6],\n",
       "       [ 7,  8],\n",
       "       [ 9, 10],\n",
       "       [11, 12],\n",
       "       [13, 14],\n",
       "       [15, 16],\n",
       "       [17, 18],\n",
       "       [19, 20],\n",
       "       [21, 22],\n",
       "       [23, 24]])"
      ]
     },
     "execution_count": 40,
     "metadata": {},
     "output_type": "execute_result"
    }
   ],
   "source": [
    "dizi_2_rs"
   ]
  }
 ],
 "metadata": {
  "kernelspec": {
   "display_name": "Python 3 (ipykernel)",
   "language": "python",
   "name": "python3"
  },
  "language_info": {
   "codemirror_mode": {
    "name": "ipython",
    "version": 3
   },
   "file_extension": ".py",
   "mimetype": "text/x-python",
   "name": "python",
   "nbconvert_exporter": "python",
   "pygments_lexer": "ipython3",
   "version": "3.11.7"
  }
 },
 "nbformat": 4,
 "nbformat_minor": 5
}
