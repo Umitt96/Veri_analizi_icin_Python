{
 "cells": [
  {
   "cell_type": "code",
   "execution_count": 1,
   "id": "f27be875-62b3-4f3c-bb5f-3e9d69de756a",
   "metadata": {},
   "outputs": [],
   "source": [
    "import numpy as np"
   ]
  },
  {
   "cell_type": "markdown",
   "id": "90a0ea83-17c5-4af9-ae61-61d29a7f203e",
   "metadata": {},
   "source": [
    "## veri oluşturma"
   ]
  },
  {
   "cell_type": "code",
   "execution_count": 10,
   "id": "279a0fce-21d3-4b15-b558-2ba86c4bd758",
   "metadata": {},
   "outputs": [
    {
     "data": {
      "text/plain": [
       "array([0, 1, 2, 3, 4, 5, 6, 7, 8, 9])"
      ]
     },
     "execution_count": 10,
     "metadata": {},
     "output_type": "execute_result"
    }
   ],
   "source": [
    "dizi = np.arange(10)\n",
    "dizi"
   ]
  },
  {
   "cell_type": "code",
   "execution_count": 20,
   "id": "dfd96cd2-4e49-4175-b468-de55b07f70ce",
   "metadata": {},
   "outputs": [
    {
     "data": {
      "text/plain": [
       "array([[1, 0, 0, 0, 0],\n",
       "       [0, 1, 0, 0, 0],\n",
       "       [0, 0, 1, 0, 0],\n",
       "       [0, 0, 0, 1, 0],\n",
       "       [0, 0, 0, 0, 1]])"
      ]
     },
     "execution_count": 20,
     "metadata": {},
     "output_type": "execute_result"
    }
   ],
   "source": [
    "matris = np.eye(5,dtype= int)\n",
    "matris"
   ]
  },
  {
   "cell_type": "markdown",
   "id": "ebbac51f-c78e-40e7-bb38-1d18f3579423",
   "metadata": {},
   "source": [
    "## slice işlemi"
   ]
  },
  {
   "cell_type": "code",
   "execution_count": 24,
   "id": "becf646d-27b8-425c-821e-38029fe05dcf",
   "metadata": {},
   "outputs": [],
   "source": [
    "sl_matris = matris[1,:]"
   ]
  },
  {
   "cell_type": "code",
   "execution_count": 25,
   "id": "6b1afbdd-0681-49d0-9d48-373131e45075",
   "metadata": {},
   "outputs": [
    {
     "data": {
      "text/plain": [
       "array([0, 1, 0, 0, 0])"
      ]
     },
     "execution_count": 25,
     "metadata": {},
     "output_type": "execute_result"
    }
   ],
   "source": [
    "sl_matris"
   ]
  },
  {
   "cell_type": "code",
   "execution_count": 26,
   "id": "1f20cb8e-d2f5-455e-b7f8-e8322681ddbf",
   "metadata": {},
   "outputs": [],
   "source": [
    "sl_matris[:] = 99"
   ]
  },
  {
   "cell_type": "code",
   "execution_count": 27,
   "id": "f55d89c2-2c11-4f74-b108-c93b03ae9876",
   "metadata": {},
   "outputs": [
    {
     "data": {
      "text/plain": [
       "array([99, 99, 99, 99, 99])"
      ]
     },
     "execution_count": 27,
     "metadata": {},
     "output_type": "execute_result"
    }
   ],
   "source": [
    "sl_matris"
   ]
  },
  {
   "cell_type": "code",
   "execution_count": 28,
   "id": "cedbb371-8980-4e72-be82-170820dc5b03",
   "metadata": {},
   "outputs": [],
   "source": [
    "matris[1,:] = 99"
   ]
  },
  {
   "cell_type": "code",
   "execution_count": 30,
   "id": "c1c5f915-a812-49b0-a7e1-dbd652bbaa40",
   "metadata": {},
   "outputs": [
    {
     "data": {
      "text/plain": [
       "array([[ 1,  0,  0,  0,  0],\n",
       "       [99, 99, 99, 99, 99],\n",
       "       [ 0,  0,  1,  0,  0],\n",
       "       [ 0,  0,  0,  1,  0],\n",
       "       [ 0,  0,  0,  0,  1]])"
      ]
     },
     "execution_count": 30,
     "metadata": {},
     "output_type": "execute_result"
    }
   ],
   "source": [
    "matris"
   ]
  }
 ],
 "metadata": {
  "kernelspec": {
   "display_name": "Python 3 (ipykernel)",
   "language": "python",
   "name": "python3"
  },
  "language_info": {
   "codemirror_mode": {
    "name": "ipython",
    "version": 3
   },
   "file_extension": ".py",
   "mimetype": "text/x-python",
   "name": "python",
   "nbconvert_exporter": "python",
   "pygments_lexer": "ipython3",
   "version": "3.11.7"
  }
 },
 "nbformat": 4,
 "nbformat_minor": 5
}
