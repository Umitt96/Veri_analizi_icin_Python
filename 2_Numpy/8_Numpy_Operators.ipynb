{
 "cells": [
  {
   "cell_type": "code",
   "execution_count": null,
   "id": "4877aac0-4895-45c9-a55a-045832a51f5f",
   "metadata": {},
   "outputs": [],
   "source": [
    "import numpy as np"
   ]
  },
  {
   "cell_type": "markdown",
   "id": "4e069d5a-2f5f-4cd4-b218-0fde60cb25a1",
   "metadata": {
    "jp-MarkdownHeadingCollapsed": true
   },
   "source": [
    "## veri oluşturma"
   ]
  },
  {
   "cell_type": "code",
   "execution_count": 29,
   "id": "b8fedcca-08ef-487c-b7a5-40cb74c2857d",
   "metadata": {},
   "outputs": [
    {
     "name": "stdout",
     "output_type": "stream",
     "text": [
      "[ 1  2  3  4  5  6  7  8  9 10]\n"
     ]
    }
   ],
   "source": [
    "dizi_a = np.arange(1,11)\n",
    "print(dizi_a)"
   ]
  },
  {
   "cell_type": "code",
   "execution_count": 30,
   "id": "79546bda-7ec4-4cec-9538-9d556b74c3b6",
   "metadata": {},
   "outputs": [
    {
     "name": "stdout",
     "output_type": "stream",
     "text": [
      "[ 7  5 12  7  7 15 18  8 17 16]\n"
     ]
    }
   ],
   "source": [
    "dizi_b = np.random.randint(1,20,10)\n",
    "print(dizi_b)"
   ]
  },
  {
   "cell_type": "markdown",
   "id": "2105e75d-361f-4091-bdb7-62dc7d05c193",
   "metadata": {
    "jp-MarkdownHeadingCollapsed": true
   },
   "source": [
    "## işlemler"
   ]
  },
  {
   "cell_type": "code",
   "execution_count": 40,
   "id": "148f4cd5-0484-41b6-b287-01d601e7cfff",
   "metadata": {},
   "outputs": [
    {
     "name": "stdout",
     "output_type": "stream",
     "text": [
      "[ 8  7 15 11 12 21 25 16 26 26]\n"
     ]
    }
   ],
   "source": [
    "dizi_c = dizi_a + dizi_b # ayrıca - , * , / , % işlemleri de yapabiliyoruz\n",
    "print(dizi_c)"
   ]
  },
  {
   "cell_type": "markdown",
   "id": "8719e611-0abf-4ac6-a095-819fea01c897",
   "metadata": {
    "jp-MarkdownHeadingCollapsed": true
   },
   "source": [
    "## istatistiksel gösterimler"
   ]
  },
  {
   "cell_type": "code",
   "execution_count": 45,
   "id": "fe50ee19-a1ce-4e3d-b6eb-fff26a5fd1b0",
   "metadata": {},
   "outputs": [
    {
     "name": "stdout",
     "output_type": "stream",
     "text": [
      "[35 11 99 71 34 87 35 84 37 30 11 79 63 94 64 62 13 23 88 97 90 61 34 38\n",
      " 22]\n"
     ]
    }
   ],
   "source": [
    "ist_dizi = np.random.randint(1,100,25)\n",
    "print(ist_dizi)"
   ]
  },
  {
   "cell_type": "code",
   "execution_count": 54,
   "id": "b159524e-fabc-44bd-8bc4-7bf3f0c5417e",
   "metadata": {},
   "outputs": [
    {
     "data": {
      "text/plain": [
       "1362"
      ]
     },
     "execution_count": 54,
     "metadata": {},
     "output_type": "execute_result"
    }
   ],
   "source": [
    "np.sum(ist_dizi) #toplamı"
   ]
  },
  {
   "cell_type": "code",
   "execution_count": 55,
   "id": "c46fbef3-bd75-467a-8c89-d774215766af",
   "metadata": {},
   "outputs": [
    {
     "data": {
      "text/plain": [
       "54.48"
      ]
     },
     "execution_count": 55,
     "metadata": {},
     "output_type": "execute_result"
    }
   ],
   "source": [
    "np.mean(ist_dizi) #ortalaması"
   ]
  },
  {
   "cell_type": "code",
   "execution_count": 56,
   "id": "f2025733-a934-46ad-b4f3-86a381c8ec75",
   "metadata": {},
   "outputs": [
    {
     "data": {
      "text/plain": [
       "844.9695999999999"
      ]
     },
     "execution_count": 56,
     "metadata": {},
     "output_type": "execute_result"
    }
   ],
   "source": [
    "np.var(ist_dizi) #varyans"
   ]
  },
  {
   "cell_type": "code",
   "execution_count": 57,
   "id": "f5783b59-7362-498b-abd8-1bab7003a375",
   "metadata": {},
   "outputs": [
    {
     "data": {
      "text/plain": [
       "29.068360806897935"
      ]
     },
     "execution_count": 57,
     "metadata": {},
     "output_type": "execute_result"
    }
   ],
   "source": [
    "np.std(ist_dizi) #standart sapma"
   ]
  },
  {
   "cell_type": "markdown",
   "id": "e208908e-4052-4769-a1c9-3538e58af725",
   "metadata": {
    "jp-MarkdownHeadingCollapsed": true
   },
   "source": [
    "## kıyaslamalar"
   ]
  },
  {
   "cell_type": "code",
   "execution_count": 60,
   "id": "ef3c7921-b476-4c16-afbc-6dd72030198d",
   "metadata": {},
   "outputs": [],
   "source": [
    "dizi_d = np.random.randint(1,500,20)"
   ]
  },
  {
   "cell_type": "code",
   "execution_count": 61,
   "id": "26eca42e-f072-4622-8940-efc706e9f1c9",
   "metadata": {},
   "outputs": [],
   "source": [
    "matris_d = dizi_d.reshape(5,4)"
   ]
  },
  {
   "cell_type": "code",
   "execution_count": 62,
   "id": "d25128d7-ce84-4eb8-a525-73b339e0b0e8",
   "metadata": {},
   "outputs": [
    {
     "data": {
      "text/plain": [
       "array([[342,  15, 194, 305],\n",
       "       [280, 260, 178, 358],\n",
       "       [ 21, 428,   8, 140],\n",
       "       [179, 472,  49,  90],\n",
       "       [439,  80,  91, 338]])"
      ]
     },
     "execution_count": 62,
     "metadata": {},
     "output_type": "execute_result"
    }
   ],
   "source": [
    "matris_d"
   ]
  },
  {
   "cell_type": "code",
   "execution_count": 67,
   "id": "071222c0-728a-436b-a23a-25c039220be7",
   "metadata": {},
   "outputs": [],
   "source": [
    "sonuc_d = matris_d < 200"
   ]
  },
  {
   "cell_type": "code",
   "execution_count": 68,
   "id": "fcdeb2d7-488c-4956-b2e1-35f723cac504",
   "metadata": {},
   "outputs": [
    {
     "data": {
      "text/plain": [
       "array([ 15, 194, 178,  21,   8, 140, 179,  49,  90,  80,  91])"
      ]
     },
     "execution_count": 68,
     "metadata": {},
     "output_type": "execute_result"
    }
   ],
   "source": [
    "matris_d[sonuc_d]"
   ]
  }
 ],
 "metadata": {
  "kernelspec": {
   "display_name": "Python 3 (ipykernel)",
   "language": "python",
   "name": "python3"
  },
  "language_info": {
   "codemirror_mode": {
    "name": "ipython",
    "version": 3
   },
   "file_extension": ".py",
   "mimetype": "text/x-python",
   "name": "python",
   "nbconvert_exporter": "python",
   "pygments_lexer": "ipython3",
   "version": "3.11.7"
  }
 },
 "nbformat": 4,
 "nbformat_minor": 5
}
