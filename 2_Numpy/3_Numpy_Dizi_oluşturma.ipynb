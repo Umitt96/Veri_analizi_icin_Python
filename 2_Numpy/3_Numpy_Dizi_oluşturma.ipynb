{
 "cells": [
  {
   "cell_type": "code",
   "execution_count": 1,
   "id": "72a80285-2d04-4989-a5d0-c2a6d9db4186",
   "metadata": {},
   "outputs": [],
   "source": [
    "import numpy as np"
   ]
  },
  {
   "cell_type": "markdown",
   "id": "f702e4e4-2d47-49ec-a1e6-b70f79f74802",
   "metadata": {
    "jp-MarkdownHeadingCollapsed": true
   },
   "source": [
    "## np.arange "
   ]
  },
  {
   "cell_type": "code",
   "execution_count": 2,
   "id": "28e131d1-02e4-46d5-913e-50985e6e4574",
   "metadata": {},
   "outputs": [],
   "source": [
    "#np.arange(başla, bitir, adımla, dtype)"
   ]
  },
  {
   "cell_type": "code",
   "execution_count": 3,
   "id": "633e5e65-d3dd-4bfa-ab9f-8a4a0269a49d",
   "metadata": {},
   "outputs": [
    {
     "data": {
      "text/plain": [
       "array([0, 1, 2, 3, 4])"
      ]
     },
     "execution_count": 3,
     "metadata": {},
     "output_type": "execute_result"
    }
   ],
   "source": [
    "np.arange(5)"
   ]
  },
  {
   "cell_type": "code",
   "execution_count": 4,
   "id": "788b61f7-4559-4e61-9dba-320789fdb318",
   "metadata": {},
   "outputs": [
    {
     "data": {
      "text/plain": [
       "array([ 5,  6,  7,  8,  9, 10, 11, 12, 13, 14, 15, 16, 17, 18, 19])"
      ]
     },
     "execution_count": 4,
     "metadata": {},
     "output_type": "execute_result"
    }
   ],
   "source": [
    "np.arange(5,20)"
   ]
  },
  {
   "cell_type": "code",
   "execution_count": 5,
   "id": "06a1283c-a84a-41a5-a888-e7895285349f",
   "metadata": {},
   "outputs": [
    {
     "data": {
      "text/plain": [
       "array([ 5, 10, 15, 20, 25, 30, 35, 40, 45])"
      ]
     },
     "execution_count": 5,
     "metadata": {},
     "output_type": "execute_result"
    }
   ],
   "source": [
    "np.arange(5,50,5)"
   ]
  },
  {
   "cell_type": "markdown",
   "id": "374b027b-02a4-4c33-922a-a9f6fd080168",
   "metadata": {
    "jp-MarkdownHeadingCollapsed": true
   },
   "source": [
    "## örnekler "
   ]
  },
  {
   "cell_type": "code",
   "execution_count": 23,
   "id": "2be6e9e6-9e5a-45c3-a7d4-1982d4714bf1",
   "metadata": {},
   "outputs": [],
   "source": [
    "# 25'dan 60'a kadar sayıları 3'er 3'er yazdır"
   ]
  },
  {
   "cell_type": "code",
   "execution_count": 24,
   "id": "8dbfd142-1978-4934-851a-754f8016f6c0",
   "metadata": {},
   "outputs": [],
   "source": [
    "ornek_1 = np.arange(25,60,3)"
   ]
  },
  {
   "cell_type": "code",
   "execution_count": 25,
   "id": "aa1c3b02-47fe-4c2f-8331-eda8908e0abb",
   "metadata": {},
   "outputs": [
    {
     "data": {
      "text/plain": [
       "array([25, 28, 31, 34, 37, 40, 43, 46, 49, 52, 55, 58])"
      ]
     },
     "execution_count": 25,
     "metadata": {},
     "output_type": "execute_result"
    }
   ],
   "source": [
    "ornek_1"
   ]
  },
  {
   "cell_type": "markdown",
   "id": "6f6bc583-fcfe-4656-ba4f-acb1550d3f06",
   "metadata": {
    "jp-MarkdownHeadingCollapsed": true
   },
   "source": [
    "## np.linspace"
   ]
  },
  {
   "cell_type": "code",
   "execution_count": null,
   "id": "95f13432-54c1-4c31-95ce-c773c62f0b99",
   "metadata": {},
   "outputs": [],
   "source": [
    "#np.linspace(başla,bitir,sayı_adedi)"
   ]
  },
  {
   "cell_type": "code",
   "execution_count": 40,
   "id": "67d3a218-7797-436d-aec2-11238fdb8ffc",
   "metadata": {},
   "outputs": [
    {
     "data": {
      "text/plain": [
       "array([ 0.        ,  0.20408163,  0.40816327,  0.6122449 ,  0.81632653,\n",
       "        1.02040816,  1.2244898 ,  1.42857143,  1.63265306,  1.83673469,\n",
       "        2.04081633,  2.24489796,  2.44897959,  2.65306122,  2.85714286,\n",
       "        3.06122449,  3.26530612,  3.46938776,  3.67346939,  3.87755102,\n",
       "        4.08163265,  4.28571429,  4.48979592,  4.69387755,  4.89795918,\n",
       "        5.10204082,  5.30612245,  5.51020408,  5.71428571,  5.91836735,\n",
       "        6.12244898,  6.32653061,  6.53061224,  6.73469388,  6.93877551,\n",
       "        7.14285714,  7.34693878,  7.55102041,  7.75510204,  7.95918367,\n",
       "        8.16326531,  8.36734694,  8.57142857,  8.7755102 ,  8.97959184,\n",
       "        9.18367347,  9.3877551 ,  9.59183673,  9.79591837, 10.        ])"
      ]
     },
     "execution_count": 40,
     "metadata": {},
     "output_type": "execute_result"
    }
   ],
   "source": [
    "np.linspace(0,10)"
   ]
  },
  {
   "cell_type": "code",
   "execution_count": 44,
   "id": "6f0505af-f2ac-4b3a-9519-9f16189116c0",
   "metadata": {},
   "outputs": [
    {
     "data": {
      "text/plain": [
       "array([ 0.        ,  0.52631579,  1.05263158,  1.57894737,  2.10526316,\n",
       "        2.63157895,  3.15789474,  3.68421053,  4.21052632,  4.73684211,\n",
       "        5.26315789,  5.78947368,  6.31578947,  6.84210526,  7.36842105,\n",
       "        7.89473684,  8.42105263,  8.94736842,  9.47368421, 10.        ])"
      ]
     },
     "execution_count": 44,
     "metadata": {},
     "output_type": "execute_result"
    }
   ],
   "source": [
    "np.linspace(0,10,20)"
   ]
  },
  {
   "cell_type": "markdown",
   "id": "992831f6-2f5e-4c38-9efb-7d2abef1424d",
   "metadata": {
    "jp-MarkdownHeadingCollapsed": true
   },
   "source": [
    "## örnekler "
   ]
  },
  {
   "cell_type": "code",
   "execution_count": null,
   "id": "f2464c68-dff0-48cf-b0e6-9c4eda9fe906",
   "metadata": {},
   "outputs": [],
   "source": [
    "# 30'dan 95'e kadar aralığı olan 70 tane sayı yazdır"
   ]
  },
  {
   "cell_type": "code",
   "execution_count": 45,
   "id": "2c4ae260-20c3-4e84-ad97-a8f053b5667a",
   "metadata": {},
   "outputs": [],
   "source": [
    "ornek_2 = np.linspace(30,95,70)"
   ]
  },
  {
   "cell_type": "code",
   "execution_count": 46,
   "id": "c8ee2c21-f61e-476e-9fa7-c28d6b75d90c",
   "metadata": {},
   "outputs": [
    {
     "data": {
      "text/plain": [
       "array([30.        , 30.94202899, 31.88405797, 32.82608696, 33.76811594,\n",
       "       34.71014493, 35.65217391, 36.5942029 , 37.53623188, 38.47826087,\n",
       "       39.42028986, 40.36231884, 41.30434783, 42.24637681, 43.1884058 ,\n",
       "       44.13043478, 45.07246377, 46.01449275, 46.95652174, 47.89855072,\n",
       "       48.84057971, 49.7826087 , 50.72463768, 51.66666667, 52.60869565,\n",
       "       53.55072464, 54.49275362, 55.43478261, 56.37681159, 57.31884058,\n",
       "       58.26086957, 59.20289855, 60.14492754, 61.08695652, 62.02898551,\n",
       "       62.97101449, 63.91304348, 64.85507246, 65.79710145, 66.73913043,\n",
       "       67.68115942, 68.62318841, 69.56521739, 70.50724638, 71.44927536,\n",
       "       72.39130435, 73.33333333, 74.27536232, 75.2173913 , 76.15942029,\n",
       "       77.10144928, 78.04347826, 78.98550725, 79.92753623, 80.86956522,\n",
       "       81.8115942 , 82.75362319, 83.69565217, 84.63768116, 85.57971014,\n",
       "       86.52173913, 87.46376812, 88.4057971 , 89.34782609, 90.28985507,\n",
       "       91.23188406, 92.17391304, 93.11594203, 94.05797101, 95.        ])"
      ]
     },
     "execution_count": 46,
     "metadata": {},
     "output_type": "execute_result"
    }
   ],
   "source": [
    "ornek_2"
   ]
  }
 ],
 "metadata": {
  "kernelspec": {
   "display_name": "Python 3 (ipykernel)",
   "language": "python",
   "name": "python3"
  },
  "language_info": {
   "codemirror_mode": {
    "name": "ipython",
    "version": 3
   },
   "file_extension": ".py",
   "mimetype": "text/x-python",
   "name": "python",
   "nbconvert_exporter": "python",
   "pygments_lexer": "ipython3",
   "version": "3.11.7"
  }
 },
 "nbformat": 4,
 "nbformat_minor": 5
}
