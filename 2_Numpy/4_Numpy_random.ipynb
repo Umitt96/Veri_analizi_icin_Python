{
 "cells": [
  {
   "cell_type": "code",
   "execution_count": null,
   "id": "81408f40-f726-4184-b039-52c107522afd",
   "metadata": {},
   "outputs": [],
   "source": [
    "import numpy as np"
   ]
  },
  {
   "cell_type": "markdown",
   "id": "b8d5ebcf-3ac1-498f-ad74-954fd4237258",
   "metadata": {
    "jp-MarkdownHeadingCollapsed": true
   },
   "source": [
    "## np.random.randn"
   ]
  },
  {
   "cell_type": "code",
   "execution_count": 8,
   "id": "c09eff16-c213-44c8-8fe7-340ee298f084",
   "metadata": {},
   "outputs": [
    {
     "data": {
      "text/plain": [
       "array([-0.42165955, -0.01375514,  0.33743805, -0.62485303, -1.04548363])"
      ]
     },
     "execution_count": 8,
     "metadata": {},
     "output_type": "execute_result"
    }
   ],
   "source": [
    "np.random.randn(5)"
   ]
  },
  {
   "cell_type": "code",
   "execution_count": 9,
   "id": "e7d286eb-8638-4fed-8112-21eb4a308f92",
   "metadata": {},
   "outputs": [
    {
     "data": {
      "text/plain": [
       "array([[-0.98571851, -0.06199118,  0.60860851, -0.61214346,  0.54720795],\n",
       "       [ 0.67151229,  0.86790661,  0.76483839,  0.44049431, -1.75292147],\n",
       "       [ 0.85879002, -1.00095114, -0.51242143, -0.75943629, -1.6431572 ],\n",
       "       [ 0.33098289,  0.66853151, -0.94359994, -1.16385306, -0.29759488],\n",
       "       [ 0.55200015,  0.68136181, -1.44767133,  0.19428424,  1.48079715]])"
      ]
     },
     "execution_count": 9,
     "metadata": {},
     "output_type": "execute_result"
    }
   ],
   "source": [
    "np.random.randn(5,5)"
   ]
  },
  {
   "cell_type": "markdown",
   "id": "2b01652b-7e1d-4aa9-abd9-eb5f617f6265",
   "metadata": {
    "jp-MarkdownHeadingCollapsed": true
   },
   "source": [
    "## np.random.randint"
   ]
  },
  {
   "cell_type": "code",
   "execution_count": 16,
   "id": "60157065-effe-4cce-8bb1-bc0ae56b68a4",
   "metadata": {},
   "outputs": [],
   "source": [
    "#np.random.randint(başla,bitir,aralık)"
   ]
  },
  {
   "cell_type": "code",
   "execution_count": 23,
   "id": "cac526c2-9f6a-45a1-a538-d704e107156d",
   "metadata": {},
   "outputs": [
    {
     "data": {
      "text/plain": [
       "9"
      ]
     },
     "execution_count": 23,
     "metadata": {},
     "output_type": "execute_result"
    }
   ],
   "source": [
    "np.random.randint(10)"
   ]
  },
  {
   "cell_type": "code",
   "execution_count": 24,
   "id": "680e801e-1199-4761-804c-ddef5a5b740b",
   "metadata": {},
   "outputs": [
    {
     "data": {
      "text/plain": [
       "array([6, 5])"
      ]
     },
     "execution_count": 24,
     "metadata": {},
     "output_type": "execute_result"
    }
   ],
   "source": [
    "np.random.randint(1,10,2)"
   ]
  },
  {
   "cell_type": "markdown",
   "id": "09315a73-1e8a-4e89-9e70-5aba0fde6a91",
   "metadata": {
    "jp-MarkdownHeadingCollapsed": true
   },
   "source": [
    "## np.random.choice"
   ]
  },
  {
   "cell_type": "code",
   "execution_count": 43,
   "id": "5264f845-73f7-4865-aa68-2fd1f6fe6179",
   "metadata": {},
   "outputs": [],
   "source": [
    "random_dizi = np.random.randint(1,200,10)"
   ]
  },
  {
   "cell_type": "code",
   "execution_count": 44,
   "id": "44cfed32-3b98-4a62-805a-9ce63e6bcc62",
   "metadata": {},
   "outputs": [
    {
     "data": {
      "text/plain": [
       "array([157, 190, 147, 166,  12, 118, 178,  88, 117, 131])"
      ]
     },
     "execution_count": 44,
     "metadata": {},
     "output_type": "execute_result"
    }
   ],
   "source": [
    "random_dizi"
   ]
  },
  {
   "cell_type": "code",
   "execution_count": 48,
   "id": "4a71d911-4e2b-49d0-9198-ea6d7910709e",
   "metadata": {},
   "outputs": [
    {
     "data": {
      "text/plain": [
       "array([ 12, 157, 117, 131, 178, 157, 190, 178, 157, 147])"
      ]
     },
     "execution_count": 48,
     "metadata": {},
     "output_type": "execute_result"
    }
   ],
   "source": [
    "np.random.choice(random_dizi, size=10)"
   ]
  }
 ],
 "metadata": {
  "kernelspec": {
   "display_name": "Python 3 (ipykernel)",
   "language": "python",
   "name": "python3"
  },
  "language_info": {
   "codemirror_mode": {
    "name": "ipython",
    "version": 3
   },
   "file_extension": ".py",
   "mimetype": "text/x-python",
   "name": "python",
   "nbconvert_exporter": "python",
   "pygments_lexer": "ipython3",
   "version": "3.11.7"
  }
 },
 "nbformat": 4,
 "nbformat_minor": 5
}
