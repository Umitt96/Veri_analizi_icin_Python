{
 "cells": [
  {
   "cell_type": "code",
   "execution_count": 1,
   "id": "5f40a3eb-06ff-4058-b8ff-4931ca288d70",
   "metadata": {},
   "outputs": [],
   "source": [
    "import numpy as np"
   ]
  },
  {
   "cell_type": "code",
   "execution_count": 12,
   "id": "d766c0e8-195c-46ba-a63c-e10a63a48639",
   "metadata": {},
   "outputs": [
    {
     "data": {
      "text/plain": [
       "array([[1, 2, 3],\n",
       "       [4, 5, 6],\n",
       "       [7, 8, 9]])"
      ]
     },
     "execution_count": 12,
     "metadata": {},
     "output_type": "execute_result"
    }
   ],
   "source": [
    "matris = np.array([[1,2,3],[4,5,6],[7,8,9]])\n",
    "matris"
   ]
  },
  {
   "cell_type": "markdown",
   "id": "cc8475b7-9ba1-4f33-983f-1267393cc3bd",
   "metadata": {},
   "source": []
  },
  {
   "cell_type": "markdown",
   "id": "70d88ec2-4397-44f7-8d0f-031806ac0c9c",
   "metadata": {
    "jp-MarkdownHeadingCollapsed": true
   },
   "source": [
    "## Temel matris özellikleri"
   ]
  },
  {
   "cell_type": "code",
   "execution_count": 10,
   "id": "89f164e2-3dec-4e06-b6d2-8c03d41fba17",
   "metadata": {},
   "outputs": [
    {
     "name": "stdout",
     "output_type": "stream",
     "text": [
      "boyut sayısı: 2\n"
     ]
    }
   ],
   "source": [
    "print(f\"boyut sayısı: {matris.ndim}\")"
   ]
  },
  {
   "cell_type": "code",
   "execution_count": 14,
   "id": "bea82c69-ee9b-4eb6-a3dc-c0cd8e13d26d",
   "metadata": {},
   "outputs": [
    {
     "data": {
      "text/plain": [
       "3"
      ]
     },
     "execution_count": 14,
     "metadata": {},
     "output_type": "execute_result"
    }
   ],
   "source": [
    "matris[0,2]"
   ]
  },
  {
   "cell_type": "code",
   "execution_count": 17,
   "id": "96c5b439-2ddf-426c-aee7-1b4962538cd4",
   "metadata": {},
   "outputs": [
    {
     "data": {
      "text/plain": [
       "array([[  1,   2,   3],\n",
       "       [  4, 500,   6],\n",
       "       [  7,   8,   9]])"
      ]
     },
     "execution_count": 17,
     "metadata": {},
     "output_type": "execute_result"
    }
   ],
   "source": [
    "matris[1,1] = 500\n",
    "matris"
   ]
  },
  {
   "cell_type": "markdown",
   "id": "fdd474e8-3ed6-4b41-a6ad-fc56a7d66c9d",
   "metadata": {},
   "source": [
    "## Transpoz"
   ]
  },
  {
   "cell_type": "code",
   "execution_count": 19,
   "id": "b09124e2-3d83-4690-ab36-d5581e2bfbc1",
   "metadata": {},
   "outputs": [
    {
     "data": {
      "text/plain": [
       "array([[  1,   2,   3],\n",
       "       [  4, 500,   6],\n",
       "       [  7,   8,   9]])"
      ]
     },
     "execution_count": 19,
     "metadata": {},
     "output_type": "execute_result"
    }
   ],
   "source": [
    "matris"
   ]
  },
  {
   "cell_type": "code",
   "execution_count": 20,
   "id": "ff960e1c-f0d4-4efe-afdc-ea1e5e5c6600",
   "metadata": {},
   "outputs": [],
   "source": [
    "matris_tr = matris.T"
   ]
  },
  {
   "cell_type": "code",
   "execution_count": 21,
   "id": "df714ac1-fa00-47ce-9507-45c398c2cb8a",
   "metadata": {},
   "outputs": [
    {
     "data": {
      "text/plain": [
       "array([[  1,   4,   7],\n",
       "       [  2, 500,   8],\n",
       "       [  3,   6,   9]])"
      ]
     },
     "execution_count": 21,
     "metadata": {},
     "output_type": "execute_result"
    }
   ],
   "source": [
    "matris_tr"
   ]
  },
  {
   "cell_type": "code",
   "execution_count": null,
   "id": "63e711e5-835a-4296-8ae9-12fc71111c9c",
   "metadata": {},
   "outputs": [],
   "source": []
  }
 ],
 "metadata": {
  "kernelspec": {
   "display_name": "Python 3 (ipykernel)",
   "language": "python",
   "name": "python3"
  },
  "language_info": {
   "codemirror_mode": {
    "name": "ipython",
    "version": 3
   },
   "file_extension": ".py",
   "mimetype": "text/x-python",
   "name": "python",
   "nbconvert_exporter": "python",
   "pygments_lexer": "ipython3",
   "version": "3.11.7"
  }
 },
 "nbformat": 4,
 "nbformat_minor": 5
}
